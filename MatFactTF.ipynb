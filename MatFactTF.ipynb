{
 "cells": [
  {
   "cell_type": "code",
   "execution_count": 1,
   "metadata": {
    "collapsed": false
   },
   "outputs": [
    {
     "name": "stdout",
     "output_type": "stream",
     "text": [
      "3.5.2 |Continuum Analytics, Inc.| (default, Jul  2 2016, 17:53:06) \n",
      "[GCC 4.4.7 20120313 (Red Hat 4.4.7-1)]\n"
     ]
    }
   ],
   "source": [
    "import tensorflow as tf\n",
    "import sys\n",
    "print(sys.version)\n",
    "import numpy as np\n",
    "import pandas as pd\n",
    "import matplotlib\n",
    "import matplotlib.pyplot as plt"
   ]
  },
  {
   "cell_type": "code",
   "execution_count": 2,
   "metadata": {
    "collapsed": true
   },
   "outputs": [],
   "source": [
    "class MF_RS():\n",
    "    def __init__(self, numUsers, numSongs, embedding_dim, reg_lambda=0.01, conf_lambda=1.0, conf_dim = 1):\n",
    "        \n",
    "        #hyper parameters\n",
    "        self.batch_size = 20000#np.min([50000, numUsers, numSongs]);\n",
    "        self.numUsers = numUsers\n",
    "        self.numSongs = numSongs\n",
    "        self.epochs = 20\n",
    "        self.reg_lambda = reg_lambda\n",
    "        self.conf_lambda = conf_lambda\n",
    "        self.conf_dim = conf_dim\n",
    "        \n",
    "        #embedding matricies for users and songs\n",
    "        self.userMat = tf.Variable(tf.random_normal([numUsers, embedding_dim]))\n",
    "        self.songMat = tf.Variable(tf.random_normal([numSongs, embedding_dim]))\n",
    "        self.userBias = tf.Variable(tf.random_normal([numUsers]))\n",
    "        self.songBias = tf.Variable(tf.random_normal([numSongs]))\n",
    "        self.overallBias = tf.Variable(tf.random_normal([1]))\n",
    "        if conf_dim > 0:\n",
    "            self.C_user = tf.Variable(.5*tf.ones([numUsers, conf_dim]))\n",
    "            self.C_song = tf.Variable(.5*tf.ones([numSongs, conf_dim]))\n",
    "        \n",
    "        #input tensors for songs, usres, ratings\n",
    "        self.users = tf.placeholder(tf.int32, shape =(self.batch_size))\n",
    "        self.songs = tf.placeholder(tf.int32, shape =(self.batch_size))\n",
    "        self.rating = tf.placeholder(tf.float32, shape = (self.batch_size))\n",
    "        \n",
    "        #map each user/song to its feature vector\n",
    "        self.U = tf.nn.embedding_lookup(self.userMat, self.users)\n",
    "        self.W = tf.nn.embedding_lookup(self.songMat, self.songs)\n",
    "        # bias\n",
    "        self.U_bias = tf.nn.embedding_lookup(self.userBias, self.users)\n",
    "        self.W_bias = tf.nn.embedding_lookup(self.songBias, self.songs)\n",
    "        # confidence params\n",
    "        if conf_dim > 0:\n",
    "            self.C_ui = tf.clip_by_value(tf.nn.embedding_lookup(self.C_user, self.users), 1e-20, 1)\n",
    "            self.C_sj = tf.clip_by_value(tf.nn.embedding_lookup(self.C_song, self.songs), 1e-20, 1)\n",
    "\n",
    "        \n",
    "        #predicted rating is dot product of user and song\n",
    "        bias = self.U_bias+self.W_bias+self.overallBias\n",
    "        pq = tf.reduce_sum(tf.mul(self.U, self.W), 1)\n",
    "        self.yhat = pq + bias\n",
    "        ones = 100*tf.ones([1, conf_dim])\n",
    "        # l2 reg\n",
    "        if conf_dim > 0:\n",
    "            self.confidence_reg = self.conf_lambda * tf.reduce_sum(1/self.C_ui + 1/self.C_sj)\n",
    "            #self.confidence_reg = self.conf_lambda * tf.reduce_sum(-tf.log(self.C_ui) + -tf.log(self.C_sj))\n",
    "        self.l2_reg = self.reg_lambda * ( tf.reduce_sum((tf.square(self.U) + tf.square(self.W))) + \n",
    "                                         tf.reduce_sum(tf.square(self.U_bias) + tf.square(self.W_bias)))\n",
    "        if conf_dim > 0:\n",
    "            self.reg = self.l2_reg + self.confidence_reg\n",
    "        else:\n",
    "            self.reg = self.l2_reg\n",
    "        #self.yhat_capped = self.yhat\n",
    "        #self.yhat_capped[self.rating == 5] = tf.minimum(self.yhat_capped, 5)[self.rating == 5]\n",
    "        #self.yhat_capped[self.rating == 0.5] = tf.maximum(self.yhat_capped, 0.5)[self.rating == 0.5]\n",
    "        if conf_dim > 0:\n",
    "             self.error = tf.reduce_mean(tf.reduce_sum(self.C_ui * self.C_sj, 1) *\n",
    "                                         tf.nn.l2_loss(self.yhat - self.rating))\n",
    "        else:\n",
    "            self.error = tf.reduce_mean(tf.nn.l2_loss(self.yhat - self.rating))\n",
    "        self.cost = (self.error + self.reg)/1e7\n",
    "        self.optimizer = tf.train.AdamOptimizer(learning_rate = .1).minimize(self.cost)\n",
    "        \n",
    "        self.session = tf.Session()\n",
    "        self.session.run(tf.initialize_all_variables())    \n",
    "        \n",
    "    def train(self, users, songs, ratings, verb = 0):\n",
    "        for i in range(self.epochs):\n",
    "            avg_cost = 0\n",
    "            perm = np.random.permutation(len(ratings))\n",
    "            num_batches = len(ratings) // self.batch_size\n",
    "            \n",
    "            for b_idx in range(num_batches):\n",
    "\n",
    "                batch = perm[self.batch_size * b_idx:self.batch_size * (b_idx + 1)]\n",
    "                users_batch = users[batch]\n",
    "                songs_batch = songs[batch]\n",
    "                ratings_batch = ratings[batch]\n",
    "                if verb > 2:\n",
    "                    if np.random.rand() > 0.99:\n",
    "                        print(\"cui = \", self.session.run([self.C_ui],\n",
    "                                  {self.users:users_batch, self.songs:songs_batch, \n",
    "                                   self.rating:ratings_batch})[0][:3])\n",
    "                avg_cost += self.session.run([self.cost, self.optimizer],\n",
    "                                  {self.users:users_batch, self.songs:songs_batch, self.rating:ratings_batch})[0]\n",
    "            if verb > 0:\n",
    "                print(avg_cost/num_batches)\n",
    "                \n",
    "    def test(self, users, songs):\n",
    "        yhat = np.zeros(len(users))\n",
    "        num_batches = len(users) // self.batch_size\n",
    "        for b_idx in range(num_batches):\n",
    "            batch = range(self.batch_size * b_idx,self.batch_size * (b_idx + 1))\n",
    "            users_batch = users[batch]\n",
    "            songs_batch = songs[batch]\n",
    "            yhat[batch] = self.session.run([self.yhat],\n",
    "                      {self.users:users_batch, self.songs:songs_batch})[0]\n",
    "        batch = range(-self.batch_size,0)\n",
    "        users_batch = users[batch]\n",
    "        songs_batch = songs[batch]\n",
    "        yhat[batch] = self.session.run([self.yhat],\n",
    "                      {self.users:users_batch, self.songs:songs_batch})[0]\n",
    "        return yhat\n",
    "    \n",
    "    def evaluate(self, users, songs, ratings):\n",
    "        yhat = self.test(users, songs)\n",
    "        yhat = np.clip(yhat, a_min = 0.5, a_max = 5)\n",
    "        return np.mean((yhat - ratings)**2) \n",
    "    def getc(self, users, songs, ratings):\n",
    "        if self.conf_dim > 0:\n",
    "            return self.session.run([self.C_ui],\n",
    "                                  {self.users:users, self.songs:songs, self.rating:ratings})[0]\n",
    "        else:\n",
    "            return \"no confidence\""
   ]
  },
  {
   "cell_type": "code",
   "execution_count": 3,
   "metadata": {
    "collapsed": false,
    "scrolled": true
   },
   "outputs": [],
   "source": [
    "a = np.array([1, 2, 3, 4, 5])\n",
    "b = np.array([1, 2, 3, 4, 5])\n",
    "c = np.array([4, 3, 2, 5, 1])\n",
    "#unique users / songs\n",
    "uni_a = np.unique(a)\n",
    "uni_b = np.unique(b)\n",
    "\n",
    "#dict mapping the id to an index\n",
    "a_map = dict(zip(uni_a,range(len(uni_a))))\n",
    "b_map = dict(zip(uni_b,range(len(uni_b))))\n",
    "\n",
    "user_idx =  np.array([ a_map[user] for user in a])\n",
    "song_idx =  np.array([ b_map[song] for song in b])\n",
    "model = MF_RS(len(uni_a), len(uni_b), 7)\n",
    "np.random.seed(2)\n",
    "model.epochs = 2\n",
    "model.train(user_idx, song_idx, c)\n"
   ]
  },
  {
   "cell_type": "code",
   "execution_count": 4,
   "metadata": {
    "collapsed": false
   },
   "outputs": [],
   "source": [
    "movieratings = pd.read_csv('ratings.csv')"
   ]
  },
  {
   "cell_type": "code",
   "execution_count": 5,
   "metadata": {
    "collapsed": false,
    "scrolled": true
   },
   "outputs": [
    {
     "data": {
      "text/html": [
       "<div>\n",
       "<table border=\"1\" class=\"dataframe\">\n",
       "  <thead>\n",
       "    <tr style=\"text-align: right;\">\n",
       "      <th></th>\n",
       "      <th>userId</th>\n",
       "      <th>movieId</th>\n",
       "      <th>rating</th>\n",
       "      <th>timestamp</th>\n",
       "    </tr>\n",
       "  </thead>\n",
       "  <tbody>\n",
       "    <tr>\n",
       "      <th>count</th>\n",
       "      <td>100004.000000</td>\n",
       "      <td>100004.000000</td>\n",
       "      <td>100004.000000</td>\n",
       "      <td>1.000040e+05</td>\n",
       "    </tr>\n",
       "    <tr>\n",
       "      <th>mean</th>\n",
       "      <td>347.011310</td>\n",
       "      <td>12548.664363</td>\n",
       "      <td>3.543608</td>\n",
       "      <td>1.129639e+09</td>\n",
       "    </tr>\n",
       "    <tr>\n",
       "      <th>std</th>\n",
       "      <td>195.163838</td>\n",
       "      <td>26369.198969</td>\n",
       "      <td>1.058064</td>\n",
       "      <td>1.916858e+08</td>\n",
       "    </tr>\n",
       "    <tr>\n",
       "      <th>min</th>\n",
       "      <td>1.000000</td>\n",
       "      <td>1.000000</td>\n",
       "      <td>0.500000</td>\n",
       "      <td>7.896520e+08</td>\n",
       "    </tr>\n",
       "    <tr>\n",
       "      <th>25%</th>\n",
       "      <td>182.000000</td>\n",
       "      <td>1028.000000</td>\n",
       "      <td>3.000000</td>\n",
       "      <td>9.658478e+08</td>\n",
       "    </tr>\n",
       "    <tr>\n",
       "      <th>50%</th>\n",
       "      <td>367.000000</td>\n",
       "      <td>2406.500000</td>\n",
       "      <td>4.000000</td>\n",
       "      <td>1.110422e+09</td>\n",
       "    </tr>\n",
       "    <tr>\n",
       "      <th>75%</th>\n",
       "      <td>520.000000</td>\n",
       "      <td>5418.000000</td>\n",
       "      <td>4.000000</td>\n",
       "      <td>1.296192e+09</td>\n",
       "    </tr>\n",
       "    <tr>\n",
       "      <th>max</th>\n",
       "      <td>671.000000</td>\n",
       "      <td>163949.000000</td>\n",
       "      <td>5.000000</td>\n",
       "      <td>1.476641e+09</td>\n",
       "    </tr>\n",
       "  </tbody>\n",
       "</table>\n",
       "</div>"
      ],
      "text/plain": [
       "              userId        movieId         rating     timestamp\n",
       "count  100004.000000  100004.000000  100004.000000  1.000040e+05\n",
       "mean      347.011310   12548.664363       3.543608  1.129639e+09\n",
       "std       195.163838   26369.198969       1.058064  1.916858e+08\n",
       "min         1.000000       1.000000       0.500000  7.896520e+08\n",
       "25%       182.000000    1028.000000       3.000000  9.658478e+08\n",
       "50%       367.000000    2406.500000       4.000000  1.110422e+09\n",
       "75%       520.000000    5418.000000       4.000000  1.296192e+09\n",
       "max       671.000000  163949.000000       5.000000  1.476641e+09"
      ]
     },
     "execution_count": 5,
     "metadata": {},
     "output_type": "execute_result"
    }
   ],
   "source": [
    "movieratings.describe()"
   ]
  },
  {
   "cell_type": "code",
   "execution_count": 6,
   "metadata": {
    "collapsed": true
   },
   "outputs": [],
   "source": [
    "max_real_user = np.max(movieratings['userId'])"
   ]
  },
  {
   "cell_type": "code",
   "execution_count": 7,
   "metadata": {
    "collapsed": false
   },
   "outputs": [
    {
     "data": {
      "text/plain": [
       "array([     1,      2,      3, ..., 162542, 162672, 163949])"
      ]
     },
     "execution_count": 7,
     "metadata": {},
     "output_type": "execute_result"
    }
   ],
   "source": [
    "movie_ids = np.unique(movieratings['movieId'])\n",
    "movie_ids"
   ]
  },
  {
   "cell_type": "code",
   "execution_count": 8,
   "metadata": {
    "collapsed": false
   },
   "outputs": [
    {
     "data": {
      "text/plain": [
       "3"
      ]
     },
     "execution_count": 8,
     "metadata": {},
     "output_type": "execute_result"
    }
   ],
   "source": [
    "from numpy import random\n",
    "random.choice([1,2,3,6,10,12])"
   ]
  },
  {
   "cell_type": "code",
   "execution_count": 9,
   "metadata": {
    "collapsed": false
   },
   "outputs": [
    {
     "name": "stdout",
     "output_type": "stream",
     "text": [
      "   movieId  rating  userId\n",
      "0        1     5.0     672\n",
      "1        2     5.0     672\n",
      "2        3     5.0     672\n",
      "3        4     0.5     672\n",
      "4        5     5.0     672\n"
     ]
    }
   ],
   "source": [
    "from numpy import random\n",
    "all_fake_id=[]\n",
    "all_fake_movie=[]\n",
    "all_fake_rating=[]\n",
    "\n",
    "rating_options = [0.5, 5.0]#np.linspace(0.5, 5, 10)\n",
    "movie_count_fake_user=4000\n",
    "for fake_idx in range(1,101):\n",
    "    fake_UID = fake_idx + max_real_user\n",
    "    fake_user_mouse = random.choice(rating_options)\n",
    "    for i in range(movie_count_fake_user):\n",
    "        movie_id = movie_ids[i//2]\n",
    "        rating = fake_user_mouse\n",
    "        if np.random.rand() > 0.02:\n",
    "            fake_user_mouse = random.choice(rating_options)\n",
    "        # propagate\n",
    "        all_fake_id.append(fake_UID)\n",
    "        all_fake_movie.append(movie_id)\n",
    "        all_fake_rating.append(rating)\n",
    "fake_df = pd.DataFrame({\"movieId\":all_fake_movie, \"userId\":all_fake_id, \"rating\":all_fake_rating})\n",
    "print(fake_df.head())\n",
    "combo_df = pd.concat([movieratings.drop(\"timestamp\",1),fake_df])\n",
    "\n",
    "        \n",
    "            \n",
    "    "
   ]
  },
  {
   "cell_type": "code",
   "execution_count": 10,
   "metadata": {
    "collapsed": false,
    "scrolled": true
   },
   "outputs": [
    {
     "data": {
      "text/html": [
       "<div>\n",
       "<table border=\"1\" class=\"dataframe\">\n",
       "  <thead>\n",
       "    <tr style=\"text-align: right;\">\n",
       "      <th></th>\n",
       "      <th>movieId</th>\n",
       "      <th>rating</th>\n",
       "      <th>userId</th>\n",
       "    </tr>\n",
       "  </thead>\n",
       "  <tbody>\n",
       "    <tr>\n",
       "      <th>396000</th>\n",
       "      <td>1</td>\n",
       "      <td>0.5</td>\n",
       "      <td>771</td>\n",
       "    </tr>\n",
       "    <tr>\n",
       "      <th>396001</th>\n",
       "      <td>2</td>\n",
       "      <td>5.0</td>\n",
       "      <td>771</td>\n",
       "    </tr>\n",
       "    <tr>\n",
       "      <th>396002</th>\n",
       "      <td>3</td>\n",
       "      <td>0.5</td>\n",
       "      <td>771</td>\n",
       "    </tr>\n",
       "    <tr>\n",
       "      <th>396003</th>\n",
       "      <td>4</td>\n",
       "      <td>0.5</td>\n",
       "      <td>771</td>\n",
       "    </tr>\n",
       "    <tr>\n",
       "      <th>396004</th>\n",
       "      <td>5</td>\n",
       "      <td>0.5</td>\n",
       "      <td>771</td>\n",
       "    </tr>\n",
       "    <tr>\n",
       "      <th>396005</th>\n",
       "      <td>6</td>\n",
       "      <td>0.5</td>\n",
       "      <td>771</td>\n",
       "    </tr>\n",
       "    <tr>\n",
       "      <th>396006</th>\n",
       "      <td>7</td>\n",
       "      <td>0.5</td>\n",
       "      <td>771</td>\n",
       "    </tr>\n",
       "    <tr>\n",
       "      <th>396007</th>\n",
       "      <td>8</td>\n",
       "      <td>5.0</td>\n",
       "      <td>771</td>\n",
       "    </tr>\n",
       "    <tr>\n",
       "      <th>396008</th>\n",
       "      <td>9</td>\n",
       "      <td>5.0</td>\n",
       "      <td>771</td>\n",
       "    </tr>\n",
       "    <tr>\n",
       "      <th>396009</th>\n",
       "      <td>10</td>\n",
       "      <td>0.5</td>\n",
       "      <td>771</td>\n",
       "    </tr>\n",
       "    <tr>\n",
       "      <th>396010</th>\n",
       "      <td>11</td>\n",
       "      <td>5.0</td>\n",
       "      <td>771</td>\n",
       "    </tr>\n",
       "    <tr>\n",
       "      <th>396011</th>\n",
       "      <td>12</td>\n",
       "      <td>5.0</td>\n",
       "      <td>771</td>\n",
       "    </tr>\n",
       "    <tr>\n",
       "      <th>396012</th>\n",
       "      <td>13</td>\n",
       "      <td>0.5</td>\n",
       "      <td>771</td>\n",
       "    </tr>\n",
       "    <tr>\n",
       "      <th>396013</th>\n",
       "      <td>14</td>\n",
       "      <td>0.5</td>\n",
       "      <td>771</td>\n",
       "    </tr>\n",
       "    <tr>\n",
       "      <th>396014</th>\n",
       "      <td>15</td>\n",
       "      <td>0.5</td>\n",
       "      <td>771</td>\n",
       "    </tr>\n",
       "    <tr>\n",
       "      <th>396015</th>\n",
       "      <td>16</td>\n",
       "      <td>0.5</td>\n",
       "      <td>771</td>\n",
       "    </tr>\n",
       "    <tr>\n",
       "      <th>396016</th>\n",
       "      <td>17</td>\n",
       "      <td>5.0</td>\n",
       "      <td>771</td>\n",
       "    </tr>\n",
       "    <tr>\n",
       "      <th>396017</th>\n",
       "      <td>18</td>\n",
       "      <td>5.0</td>\n",
       "      <td>771</td>\n",
       "    </tr>\n",
       "    <tr>\n",
       "      <th>396018</th>\n",
       "      <td>19</td>\n",
       "      <td>5.0</td>\n",
       "      <td>771</td>\n",
       "    </tr>\n",
       "    <tr>\n",
       "      <th>396019</th>\n",
       "      <td>20</td>\n",
       "      <td>5.0</td>\n",
       "      <td>771</td>\n",
       "    </tr>\n",
       "    <tr>\n",
       "      <th>396020</th>\n",
       "      <td>21</td>\n",
       "      <td>0.5</td>\n",
       "      <td>771</td>\n",
       "    </tr>\n",
       "    <tr>\n",
       "      <th>396021</th>\n",
       "      <td>22</td>\n",
       "      <td>0.5</td>\n",
       "      <td>771</td>\n",
       "    </tr>\n",
       "    <tr>\n",
       "      <th>396022</th>\n",
       "      <td>23</td>\n",
       "      <td>5.0</td>\n",
       "      <td>771</td>\n",
       "    </tr>\n",
       "    <tr>\n",
       "      <th>396023</th>\n",
       "      <td>24</td>\n",
       "      <td>5.0</td>\n",
       "      <td>771</td>\n",
       "    </tr>\n",
       "    <tr>\n",
       "      <th>396024</th>\n",
       "      <td>25</td>\n",
       "      <td>0.5</td>\n",
       "      <td>771</td>\n",
       "    </tr>\n",
       "    <tr>\n",
       "      <th>396025</th>\n",
       "      <td>26</td>\n",
       "      <td>5.0</td>\n",
       "      <td>771</td>\n",
       "    </tr>\n",
       "    <tr>\n",
       "      <th>396026</th>\n",
       "      <td>27</td>\n",
       "      <td>0.5</td>\n",
       "      <td>771</td>\n",
       "    </tr>\n",
       "    <tr>\n",
       "      <th>396027</th>\n",
       "      <td>28</td>\n",
       "      <td>0.5</td>\n",
       "      <td>771</td>\n",
       "    </tr>\n",
       "    <tr>\n",
       "      <th>396028</th>\n",
       "      <td>29</td>\n",
       "      <td>5.0</td>\n",
       "      <td>771</td>\n",
       "    </tr>\n",
       "    <tr>\n",
       "      <th>396029</th>\n",
       "      <td>30</td>\n",
       "      <td>0.5</td>\n",
       "      <td>771</td>\n",
       "    </tr>\n",
       "    <tr>\n",
       "      <th>...</th>\n",
       "      <td>...</td>\n",
       "      <td>...</td>\n",
       "      <td>...</td>\n",
       "    </tr>\n",
       "    <tr>\n",
       "      <th>399970</th>\n",
       "      <td>5146</td>\n",
       "      <td>5.0</td>\n",
       "      <td>771</td>\n",
       "    </tr>\n",
       "    <tr>\n",
       "      <th>399971</th>\n",
       "      <td>5147</td>\n",
       "      <td>5.0</td>\n",
       "      <td>771</td>\n",
       "    </tr>\n",
       "    <tr>\n",
       "      <th>399972</th>\n",
       "      <td>5151</td>\n",
       "      <td>0.5</td>\n",
       "      <td>771</td>\n",
       "    </tr>\n",
       "    <tr>\n",
       "      <th>399973</th>\n",
       "      <td>5152</td>\n",
       "      <td>0.5</td>\n",
       "      <td>771</td>\n",
       "    </tr>\n",
       "    <tr>\n",
       "      <th>399974</th>\n",
       "      <td>5153</td>\n",
       "      <td>5.0</td>\n",
       "      <td>771</td>\n",
       "    </tr>\n",
       "    <tr>\n",
       "      <th>399975</th>\n",
       "      <td>5159</td>\n",
       "      <td>5.0</td>\n",
       "      <td>771</td>\n",
       "    </tr>\n",
       "    <tr>\n",
       "      <th>399976</th>\n",
       "      <td>5161</td>\n",
       "      <td>5.0</td>\n",
       "      <td>771</td>\n",
       "    </tr>\n",
       "    <tr>\n",
       "      <th>399977</th>\n",
       "      <td>5164</td>\n",
       "      <td>0.5</td>\n",
       "      <td>771</td>\n",
       "    </tr>\n",
       "    <tr>\n",
       "      <th>399978</th>\n",
       "      <td>5165</td>\n",
       "      <td>0.5</td>\n",
       "      <td>771</td>\n",
       "    </tr>\n",
       "    <tr>\n",
       "      <th>399979</th>\n",
       "      <td>5167</td>\n",
       "      <td>0.5</td>\n",
       "      <td>771</td>\n",
       "    </tr>\n",
       "    <tr>\n",
       "      <th>399980</th>\n",
       "      <td>5168</td>\n",
       "      <td>0.5</td>\n",
       "      <td>771</td>\n",
       "    </tr>\n",
       "    <tr>\n",
       "      <th>399981</th>\n",
       "      <td>5170</td>\n",
       "      <td>5.0</td>\n",
       "      <td>771</td>\n",
       "    </tr>\n",
       "    <tr>\n",
       "      <th>399982</th>\n",
       "      <td>5171</td>\n",
       "      <td>0.5</td>\n",
       "      <td>771</td>\n",
       "    </tr>\n",
       "    <tr>\n",
       "      <th>399983</th>\n",
       "      <td>5172</td>\n",
       "      <td>5.0</td>\n",
       "      <td>771</td>\n",
       "    </tr>\n",
       "    <tr>\n",
       "      <th>399984</th>\n",
       "      <td>5177</td>\n",
       "      <td>5.0</td>\n",
       "      <td>771</td>\n",
       "    </tr>\n",
       "    <tr>\n",
       "      <th>399985</th>\n",
       "      <td>5179</td>\n",
       "      <td>5.0</td>\n",
       "      <td>771</td>\n",
       "    </tr>\n",
       "    <tr>\n",
       "      <th>399986</th>\n",
       "      <td>5180</td>\n",
       "      <td>5.0</td>\n",
       "      <td>771</td>\n",
       "    </tr>\n",
       "    <tr>\n",
       "      <th>399987</th>\n",
       "      <td>5182</td>\n",
       "      <td>5.0</td>\n",
       "      <td>771</td>\n",
       "    </tr>\n",
       "    <tr>\n",
       "      <th>399988</th>\n",
       "      <td>5186</td>\n",
       "      <td>0.5</td>\n",
       "      <td>771</td>\n",
       "    </tr>\n",
       "    <tr>\n",
       "      <th>399989</th>\n",
       "      <td>5187</td>\n",
       "      <td>0.5</td>\n",
       "      <td>771</td>\n",
       "    </tr>\n",
       "    <tr>\n",
       "      <th>399990</th>\n",
       "      <td>5193</td>\n",
       "      <td>0.5</td>\n",
       "      <td>771</td>\n",
       "    </tr>\n",
       "    <tr>\n",
       "      <th>399991</th>\n",
       "      <td>5198</td>\n",
       "      <td>5.0</td>\n",
       "      <td>771</td>\n",
       "    </tr>\n",
       "    <tr>\n",
       "      <th>399992</th>\n",
       "      <td>5199</td>\n",
       "      <td>5.0</td>\n",
       "      <td>771</td>\n",
       "    </tr>\n",
       "    <tr>\n",
       "      <th>399993</th>\n",
       "      <td>5202</td>\n",
       "      <td>5.0</td>\n",
       "      <td>771</td>\n",
       "    </tr>\n",
       "    <tr>\n",
       "      <th>399994</th>\n",
       "      <td>5203</td>\n",
       "      <td>5.0</td>\n",
       "      <td>771</td>\n",
       "    </tr>\n",
       "    <tr>\n",
       "      <th>399995</th>\n",
       "      <td>5205</td>\n",
       "      <td>0.5</td>\n",
       "      <td>771</td>\n",
       "    </tr>\n",
       "    <tr>\n",
       "      <th>399996</th>\n",
       "      <td>5208</td>\n",
       "      <td>5.0</td>\n",
       "      <td>771</td>\n",
       "    </tr>\n",
       "    <tr>\n",
       "      <th>399997</th>\n",
       "      <td>5210</td>\n",
       "      <td>0.5</td>\n",
       "      <td>771</td>\n",
       "    </tr>\n",
       "    <tr>\n",
       "      <th>399998</th>\n",
       "      <td>5214</td>\n",
       "      <td>0.5</td>\n",
       "      <td>771</td>\n",
       "    </tr>\n",
       "    <tr>\n",
       "      <th>399999</th>\n",
       "      <td>5218</td>\n",
       "      <td>0.5</td>\n",
       "      <td>771</td>\n",
       "    </tr>\n",
       "  </tbody>\n",
       "</table>\n",
       "<p>4000 rows × 3 columns</p>\n",
       "</div>"
      ],
      "text/plain": [
       "        movieId  rating  userId\n",
       "396000        1     0.5     771\n",
       "396001        2     5.0     771\n",
       "396002        3     0.5     771\n",
       "396003        4     0.5     771\n",
       "396004        5     0.5     771\n",
       "396005        6     0.5     771\n",
       "396006        7     0.5     771\n",
       "396007        8     5.0     771\n",
       "396008        9     5.0     771\n",
       "396009       10     0.5     771\n",
       "396010       11     5.0     771\n",
       "396011       12     5.0     771\n",
       "396012       13     0.5     771\n",
       "396013       14     0.5     771\n",
       "396014       15     0.5     771\n",
       "396015       16     0.5     771\n",
       "396016       17     5.0     771\n",
       "396017       18     5.0     771\n",
       "396018       19     5.0     771\n",
       "396019       20     5.0     771\n",
       "396020       21     0.5     771\n",
       "396021       22     0.5     771\n",
       "396022       23     5.0     771\n",
       "396023       24     5.0     771\n",
       "396024       25     0.5     771\n",
       "396025       26     5.0     771\n",
       "396026       27     0.5     771\n",
       "396027       28     0.5     771\n",
       "396028       29     5.0     771\n",
       "396029       30     0.5     771\n",
       "...         ...     ...     ...\n",
       "399970     5146     5.0     771\n",
       "399971     5147     5.0     771\n",
       "399972     5151     0.5     771\n",
       "399973     5152     0.5     771\n",
       "399974     5153     5.0     771\n",
       "399975     5159     5.0     771\n",
       "399976     5161     5.0     771\n",
       "399977     5164     0.5     771\n",
       "399978     5165     0.5     771\n",
       "399979     5167     0.5     771\n",
       "399980     5168     0.5     771\n",
       "399981     5170     5.0     771\n",
       "399982     5171     0.5     771\n",
       "399983     5172     5.0     771\n",
       "399984     5177     5.0     771\n",
       "399985     5179     5.0     771\n",
       "399986     5180     5.0     771\n",
       "399987     5182     5.0     771\n",
       "399988     5186     0.5     771\n",
       "399989     5187     0.5     771\n",
       "399990     5193     0.5     771\n",
       "399991     5198     5.0     771\n",
       "399992     5199     5.0     771\n",
       "399993     5202     5.0     771\n",
       "399994     5203     5.0     771\n",
       "399995     5205     0.5     771\n",
       "399996     5208     5.0     771\n",
       "399997     5210     0.5     771\n",
       "399998     5214     0.5     771\n",
       "399999     5218     0.5     771\n",
       "\n",
       "[4000 rows x 3 columns]"
      ]
     },
     "execution_count": 10,
     "metadata": {},
     "output_type": "execute_result"
    }
   ],
   "source": [
    "combo_df[combo_df.userId == 771]"
   ]
  },
  {
   "cell_type": "code",
   "execution_count": 11,
   "metadata": {
    "collapsed": false,
    "scrolled": false
   },
   "outputs": [
    {
     "data": {
      "text/html": [
       "<div>\n",
       "<table border=\"1\" class=\"dataframe\">\n",
       "  <thead>\n",
       "    <tr style=\"text-align: right;\">\n",
       "      <th></th>\n",
       "      <th>movieId</th>\n",
       "      <th>rating</th>\n",
       "      <th>userId</th>\n",
       "    </tr>\n",
       "  </thead>\n",
       "  <tbody>\n",
       "    <tr>\n",
       "      <th>count</th>\n",
       "      <td>500004.000000</td>\n",
       "      <td>500004.000000</td>\n",
       "      <td>500004.000000</td>\n",
       "    </tr>\n",
       "    <tr>\n",
       "      <th>mean</th>\n",
       "      <td>4520.202700</td>\n",
       "      <td>2.907044</td>\n",
       "      <td>646.599865</td>\n",
       "    </tr>\n",
       "    <tr>\n",
       "      <th>std</th>\n",
       "      <td>12527.090594</td>\n",
       "      <td>2.091694</td>\n",
       "      <td>175.282149</td>\n",
       "    </tr>\n",
       "    <tr>\n",
       "      <th>min</th>\n",
       "      <td>1.000000</td>\n",
       "      <td>0.500000</td>\n",
       "      <td>1.000000</td>\n",
       "    </tr>\n",
       "    <tr>\n",
       "      <th>25%</th>\n",
       "      <td>1201.000000</td>\n",
       "      <td>0.500000</td>\n",
       "      <td>678.000000</td>\n",
       "    </tr>\n",
       "    <tr>\n",
       "      <th>50%</th>\n",
       "      <td>2487.000000</td>\n",
       "      <td>4.000000</td>\n",
       "      <td>709.000000</td>\n",
       "    </tr>\n",
       "    <tr>\n",
       "      <th>75%</th>\n",
       "      <td>3860.000000</td>\n",
       "      <td>5.000000</td>\n",
       "      <td>740.000000</td>\n",
       "    </tr>\n",
       "    <tr>\n",
       "      <th>max</th>\n",
       "      <td>163949.000000</td>\n",
       "      <td>5.000000</td>\n",
       "      <td>771.000000</td>\n",
       "    </tr>\n",
       "  </tbody>\n",
       "</table>\n",
       "</div>"
      ],
      "text/plain": [
       "             movieId         rating         userId\n",
       "count  500004.000000  500004.000000  500004.000000\n",
       "mean     4520.202700       2.907044     646.599865\n",
       "std     12527.090594       2.091694     175.282149\n",
       "min         1.000000       0.500000       1.000000\n",
       "25%      1201.000000       0.500000     678.000000\n",
       "50%      2487.000000       4.000000     709.000000\n",
       "75%      3860.000000       5.000000     740.000000\n",
       "max    163949.000000       5.000000     771.000000"
      ]
     },
     "execution_count": 11,
     "metadata": {},
     "output_type": "execute_result"
    }
   ],
   "source": [
    "combo_df.describe()"
   ]
  },
  {
   "cell_type": "code",
   "execution_count": 12,
   "metadata": {
    "collapsed": false,
    "scrolled": true
   },
   "outputs": [
    {
     "data": {
      "text/html": [
       "<div>\n",
       "<table border=\"1\" class=\"dataframe\">\n",
       "  <thead>\n",
       "    <tr style=\"text-align: right;\">\n",
       "      <th></th>\n",
       "      <th>count</th>\n",
       "      <th>mean</th>\n",
       "      <th>std</th>\n",
       "      <th>min</th>\n",
       "      <th>25%</th>\n",
       "      <th>50%</th>\n",
       "      <th>75%</th>\n",
       "      <th>max</th>\n",
       "      <th>nanvals</th>\n",
       "      <th>number_distinct</th>\n",
       "    </tr>\n",
       "  </thead>\n",
       "  <tbody>\n",
       "    <tr>\n",
       "      <th>userId</th>\n",
       "      <td>100004.0</td>\n",
       "      <td>3.470113e+02</td>\n",
       "      <td>1.951638e+02</td>\n",
       "      <td>1.0</td>\n",
       "      <td>182.0</td>\n",
       "      <td>3.670000e+02</td>\n",
       "      <td>5.200000e+02</td>\n",
       "      <td>6.710000e+02</td>\n",
       "      <td>0.0</td>\n",
       "      <td>671.0</td>\n",
       "    </tr>\n",
       "    <tr>\n",
       "      <th>movieId</th>\n",
       "      <td>100004.0</td>\n",
       "      <td>1.254866e+04</td>\n",
       "      <td>2.636920e+04</td>\n",
       "      <td>1.0</td>\n",
       "      <td>1028.0</td>\n",
       "      <td>2.406500e+03</td>\n",
       "      <td>5.418000e+03</td>\n",
       "      <td>1.639490e+05</td>\n",
       "      <td>0.0</td>\n",
       "      <td>9066.0</td>\n",
       "    </tr>\n",
       "    <tr>\n",
       "      <th>rating</th>\n",
       "      <td>100004.0</td>\n",
       "      <td>3.543608e+00</td>\n",
       "      <td>1.058064e+00</td>\n",
       "      <td>0.5</td>\n",
       "      <td>3.0</td>\n",
       "      <td>4.000000e+00</td>\n",
       "      <td>4.000000e+00</td>\n",
       "      <td>5.000000e+00</td>\n",
       "      <td>0.0</td>\n",
       "      <td>10.0</td>\n",
       "    </tr>\n",
       "    <tr>\n",
       "      <th>timestamp</th>\n",
       "      <td>100004.0</td>\n",
       "      <td>1.129639e+09</td>\n",
       "      <td>1.916858e+08</td>\n",
       "      <td>789652009.0</td>\n",
       "      <td>965847824.0</td>\n",
       "      <td>1.110422e+09</td>\n",
       "      <td>1.296192e+09</td>\n",
       "      <td>1.476641e+09</td>\n",
       "      <td>0.0</td>\n",
       "      <td>78141.0</td>\n",
       "    </tr>\n",
       "  </tbody>\n",
       "</table>\n",
       "</div>"
      ],
      "text/plain": [
       "              count          mean           std          min          25%  \\\n",
       "userId     100004.0  3.470113e+02  1.951638e+02          1.0        182.0   \n",
       "movieId    100004.0  1.254866e+04  2.636920e+04          1.0       1028.0   \n",
       "rating     100004.0  3.543608e+00  1.058064e+00          0.5          3.0   \n",
       "timestamp  100004.0  1.129639e+09  1.916858e+08  789652009.0  965847824.0   \n",
       "\n",
       "                    50%           75%           max  nanvals  number_distinct  \n",
       "userId     3.670000e+02  5.200000e+02  6.710000e+02      0.0            671.0  \n",
       "movieId    2.406500e+03  5.418000e+03  1.639490e+05      0.0           9066.0  \n",
       "rating     4.000000e+00  4.000000e+00  5.000000e+00      0.0             10.0  \n",
       "timestamp  1.110422e+09  1.296192e+09  1.476641e+09      0.0          78141.0  "
      ]
     },
     "execution_count": 12,
     "metadata": {},
     "output_type": "execute_result"
    }
   ],
   "source": [
    "def getDfSummary(input_data):\n",
    "    output_data = input_data.describe(include = 'all').T\n",
    "    var = pd.DataFrame(data = {'nanvals': pd.Series(), 'number_distinct': pd.Series()})\n",
    "    for i in range(len(input_data.columns)):\n",
    "        nanvals = input_data.ix[:,i].isnull().sum()\n",
    "        number_distinct = len(input_data.ix[:,i].value_counts())\n",
    "        var = var.append(pd.DataFrame([[nanvals, number_distinct]], columns = ['nanvals', 'number_distinct']))\n",
    "    var.index = output_data.index.values\n",
    "    output_data['nanvals'] = var['nanvals']\n",
    "    output_data['number_distinct'] = var['number_distinct']\n",
    "    return output_data\n",
    "output_data = getDfSummary(movieratings)\n",
    "output_data"
   ]
  },
  {
   "cell_type": "code",
   "execution_count": 13,
   "metadata": {
    "collapsed": false
   },
   "outputs": [],
   "source": [
    "movieratings = movieratings.ix[np.random.permutation(len(movieratings))]"
   ]
  },
  {
   "cell_type": "code",
   "execution_count": 14,
   "metadata": {
    "collapsed": false,
    "scrolled": true
   },
   "outputs": [
    {
     "name": "stdout",
     "output_type": "stream",
     "text": [
      "671 9066\n"
     ]
    }
   ],
   "source": [
    "users = movieratings.ix[:,0].values\n",
    "songs = movieratings.ix[:,1].values\n",
    "ratings = movieratings.ix[:,2].values\n",
    "\n",
    "#unique users / songs\n",
    "uni_users = movieratings['userId'].unique()\n",
    "uni_songs = movieratings['movieId'].unique()\n",
    "\n",
    "#dict mapping the id to an index\n",
    "user_map = dict(zip(uni_users,range(len(uni_users))))\n",
    "song_map = dict(zip(uni_songs,range(len(uni_songs))))\n",
    "\n",
    "user_idx =  np.array([ user_map[user] for user in users])\n",
    "song_idx =  np.array([ song_map[song] for song in songs])\n",
    "\n",
    "print(len(uni_users),len(uni_songs))\n",
    "\n",
    "perm = range(len(users))#np.random.permutation(len(users))\n",
    "trn_idx = perm[:(len(users)*4)//5]\n",
    "val_idx = perm[(len(users)*4)//5:]\n",
    "user_idx_trn, song_idx_trn, ratings_trn = user_idx[trn_idx], song_idx[trn_idx], ratings[trn_idx]\n",
    "user_idx_val, song_idx_val, ratings_val = user_idx[val_idx], song_idx[val_idx], ratings[val_idx]"
   ]
  },
  {
   "cell_type": "code",
   "execution_count": 15,
   "metadata": {
    "collapsed": false,
    "scrolled": true
   },
   "outputs": [
    {
     "name": "stdout",
     "output_type": "stream",
     "text": [
      "771 9066\n"
     ]
    }
   ],
   "source": [
    "users_with_noise = combo_df.ix[:,\"userId\"].values\n",
    "songs_with_noise = combo_df.ix[:,\"movieId\"].values\n",
    "ratings_with_noise = combo_df.ix[:,\"rating\"].values\n",
    "\n",
    "#unique users / songs\n",
    "uni_users_with_noise = combo_df['userId'].unique()\n",
    "uni_songs_with_noise = combo_df['movieId'].unique()\n",
    "\n",
    "#dict mapping the id to an index\n",
    "user_map_with_noise = dict(zip(uni_users_with_noise,range(len(uni_users_with_noise))))\n",
    "song_map_with_noise = dict(zip(uni_songs_with_noise,range(len(uni_songs_with_noise))))\n",
    "\n",
    "user_idx_with_noise =  np.array([ user_map_with_noise[user] for user in users_with_noise])\n",
    "song_idx_with_noise =  np.array([ song_map_with_noise[song] for song in songs_with_noise])\n",
    "\n",
    "print(len(uni_users_with_noise),len(uni_songs_with_noise))\n",
    "\n",
    "perm_with_noise = range(len(users_with_noise))#np.random.permutation(len(users_with_noise))\n",
    "trn_idx_with_noise = list(trn_idx)+list(range(len(users), len(users_with_noise)))#perm_with_noise[:(len(users_with_noise)*2)//3]\n",
    "val_idx_with_noise = list(val_idx)#perm_with_noise[(len(users_with_noise)*2)//3:]\n",
    "user_idx_trn_with_noise, song_idx_trn_with_noise, ratings_trn_with_noise = \\\n",
    "        user_idx_with_noise[trn_idx_with_noise], song_idx_with_noise[trn_idx_with_noise], \\\n",
    "        ratings_with_noise[trn_idx_with_noise]\n",
    "user_idx_val_with_noise, song_idx_val_with_noise, ratings_val_with_noise =\\\n",
    "        user_idx_with_noise[val_idx_with_noise], song_idx_with_noise[val_idx_with_noise],\\\n",
    "        ratings_with_noise[val_idx_with_noise]"
   ]
  },
  {
   "cell_type": "code",
   "execution_count": 16,
   "metadata": {
    "collapsed": false
   },
   "outputs": [
    {
     "name": "stdout",
     "output_type": "stream",
     "text": [
      "6.60519617478\n",
      "3.36095976337e+16\n"
     ]
    },
    {
     "data": {
      "text/plain": [
       "3.2465027622321263"
      ]
     },
     "execution_count": 16,
     "metadata": {},
     "output_type": "execute_result"
    }
   ],
   "source": [
    "\n",
    "reg_l = 0.01\n",
    "conf_l = .1\n",
    "conf = 3\n",
    "edim = 5\n",
    "songmodel = MF_RS(len (uni_users), len(uni_songs), embedding_dim = edim, \n",
    "                  reg_lambda=reg_l, conf_lambda=conf_l, conf_dim = conf)\n",
    "print(songmodel.evaluate(user_idx_val, song_idx_val, ratings_val))\n",
    "songmodel.epochs = 1\n",
    "songmodel.train(user_idx_trn, song_idx_trn, ratings_trn, verb = 3)\n",
    "songmodel.evaluate(user_idx_val, song_idx_val, ratings_val)"
   ]
  },
  {
   "cell_type": "code",
   "execution_count": 17,
   "metadata": {
    "collapsed": false
   },
   "outputs": [
    {
     "data": {
      "text/plain": [
       "'\\nedims = [5, 7]\\nconfs = [0, 2]\\nerrmat = np.zeros([len(edims), len(confs)])\\nreg_l = 1\\nconf_l = 5\\nfor eidx, edim in enumerate(edims):\\n    for cidx, conf in enumerate(confs):\\n        songmodel = MF_RS(len (uni_users), len(uni_songs), edim, \\n                          reg_lambda=reg_l, conf_lambda=conf_l, conf_dim = conf)\\n        print(\"accuracy before training\", songmodel.evaluate(user_idx_val, song_idx_val, ratings_val))\\n        np.random.seed(1)\\n        songmodel.epochs = 10\\n        #songmodel.train(user_idx_trn_with_noise, song_idx_trn_with_noise, ratings_trn_with_noise)\\n        songmodel.train(user_idx_trn, song_idx_trn, ratings_trn)\\n        err = songmodel.evaluate(user_idx_val, song_idx_val, ratings_val)\\n        print(\"accuracy after training with edim \", edim, \" and confidence dim \", conf, \": \", err)\\n        errmat[eidx, cidx] = err\\nerrmat\\n'"
      ]
     },
     "execution_count": 17,
     "metadata": {},
     "output_type": "execute_result"
    }
   ],
   "source": [
    "\"\"\"\n",
    "edims = [5, 7]\n",
    "confs = [0, 2]\n",
    "errmat = np.zeros([len(edims), len(confs)])\n",
    "reg_l = 1\n",
    "conf_l = 5\n",
    "for eidx, edim in enumerate(edims):\n",
    "    for cidx, conf in enumerate(confs):\n",
    "        songmodel = MF_RS(len (uni_users), len(uni_songs), edim, \n",
    "                          reg_lambda=reg_l, conf_lambda=conf_l, conf_dim = conf)\n",
    "        print(\"accuracy before training\", songmodel.evaluate(user_idx_val, song_idx_val, ratings_val))\n",
    "        np.random.seed(1)\n",
    "        songmodel.epochs = 10\n",
    "        #songmodel.train(user_idx_trn_with_noise, song_idx_trn_with_noise, ratings_trn_with_noise)\n",
    "        songmodel.train(user_idx_trn, song_idx_trn, ratings_trn)\n",
    "        err = songmodel.evaluate(user_idx_val, song_idx_val, ratings_val)\n",
    "        print(\"accuracy after training with edim \", edim, \" and confidence dim \", conf, \": \", err)\n",
    "        errmat[eidx, cidx] = err\n",
    "errmat\n",
    "\"\"\""
   ]
  },
  {
   "cell_type": "code",
   "execution_count": 18,
   "metadata": {
    "collapsed": false
   },
   "outputs": [
    {
     "name": "stdout",
     "output_type": "stream",
     "text": [
      "Error before training 5.47737481774\n",
      "Error after  0 epochs edim  3  reg =  0.0001  and confidence dim  0 :  1.76700142611\n",
      "Error after  4 epochs edim  3  reg =  0.0001  and confidence dim  0 :  1.81995314341\n",
      "Error after  8 epochs edim  3  reg =  0.0001  and confidence dim  0 :  1.87388181792\n",
      "Error before training 9.55432021065\n",
      "Error after  0 epochs edim  3  reg =  0.0001  and confidence dim  1 :  2.68212620975\n",
      "Error after  4 epochs edim  3  reg =  0.0001  and confidence dim  1 :  2.18896424011\n",
      "Error after  8 epochs edim  3  reg =  0.0001  and confidence dim  1 :  2.13373610579\n",
      "Error before training 6.59306243937\n",
      "Error after  0 epochs edim  5  reg =  0.0001  and confidence dim  0 :  1.91440929924\n",
      "Error after  4 epochs edim  5  reg =  0.0001  and confidence dim  0 :  1.93881734443\n",
      "Error after  8 epochs edim  5  reg =  0.0001  and confidence dim  0 :  1.96223240176\n",
      "Error before training 9.18873610634\n",
      "Error after  0 epochs edim  5  reg =  0.0001  and confidence dim  1 :  2.84841542994\n",
      "Error after  4 epochs edim  5  reg =  0.0001  and confidence dim  1 :  2.31419217179\n",
      "Error after  8 epochs edim  5  reg =  0.0001  and confidence dim  1 :  2.24454788431\n",
      "Error before training 7.29230610007\n",
      "Error after  0 epochs edim  3  reg =  0.01  and confidence dim  0 :  1.79339214984\n",
      "Error after  4 epochs edim  3  reg =  0.01  and confidence dim  0 :  1.76039382373\n",
      "Error after  8 epochs edim  3  reg =  0.01  and confidence dim  0 :  1.7915460468\n",
      "Error before training 7.91090995287\n",
      "Error after  0 epochs edim  3  reg =  0.01  and confidence dim  1 :  1.75072957904\n",
      "Error after  4 epochs edim  3  reg =  0.01  and confidence dim  1 :  1.72170142261\n",
      "Error after  8 epochs edim  3  reg =  0.01  and confidence dim  1 :  1.7338047551\n",
      "Error before training 9.63010035252\n",
      "Error after  0 epochs edim  5  reg =  0.01  and confidence dim  0 :  2.2583028111\n",
      "Error after  4 epochs edim  5  reg =  0.01  and confidence dim  0 :  2.11920568259\n",
      "Error after  8 epochs edim  5  reg =  0.01  and confidence dim  0 :  2.02077213844\n",
      "Error before training 5.43105136166\n",
      "Error after  0 epochs edim  5  reg =  0.01  and confidence dim  1 :  1.73191105188\n",
      "Error after  4 epochs edim  5  reg =  0.01  and confidence dim  1 :  1.75404304994\n",
      "Error after  8 epochs edim  5  reg =  0.01  and confidence dim  1 :  1.7753408737\n"
     ]
    },
    {
     "data": {
      "text/plain": [
       "array([[[ 1.87388182,  1.79154605],\n",
       "        [ 2.13373611,  1.73380476]],\n",
       "\n",
       "       [[ 1.9622324 ,  2.02077214],\n",
       "        [ 2.24454788,  1.77534087]]])"
      ]
     },
     "execution_count": 18,
     "metadata": {},
     "output_type": "execute_result"
    }
   ],
   "source": [
    "edims = [3, 5]\n",
    "confs = [0, 1]\n",
    "reg_l = [1e-4, 1e-2]\n",
    "errmat = np.zeros([len(edims), len(confs), len(reg_l)])\n",
    "conf_lambda = 1\n",
    "epochs = 4\n",
    "iters = 3\n",
    "for regidx, reg in enumerate(reg_l):\n",
    "    for eidx, edim in enumerate(edims):\n",
    "        for cidx, conf in enumerate(confs):\n",
    "            songmodel = MF_RS(len (uni_users_with_noise), len(uni_songs_with_noise), edim, \n",
    "                              reg_lambda=reg, conf_lambda=conf_lambda, conf_dim = conf)\n",
    "            print(\"Error before training\", songmodel.evaluate(user_idx_val, song_idx_val, ratings_val))\n",
    "            songmodel.epochs = epochs\n",
    "            for iteration in range(iters):\n",
    "                songmodel.train(user_idx_trn_with_noise, song_idx_trn_with_noise, ratings_trn_with_noise, verb = 0)\n",
    "                #songmodel.train(user_idx_trn, song_idx_trn, ratings_trn)\n",
    "                err = songmodel.evaluate(user_idx_val, song_idx_val, ratings_val)\n",
    "                print(\"Error after \", epochs * iteration, \"epochs edim \", edim,\" reg = \", \n",
    "                      reg, \" and confidence dim \", conf, \": \", err)\n",
    "            errmat[eidx, cidx, regidx] = err\n",
    "errmat"
   ]
  },
  {
   "cell_type": "code",
   "execution_count": 19,
   "metadata": {
    "collapsed": true
   },
   "outputs": [],
   "source": [
    "#songmodel.epochs = 10\n",
    "#songmodel.train(user_idx_trn_with_noise, song_idx_trn_with_noise, ratings_trn_with_noise)"
   ]
  },
  {
   "cell_type": "code",
   "execution_count": 20,
   "metadata": {
    "collapsed": false
   },
   "outputs": [],
   "source": [
    "real_usr_c = songmodel.getc(user_idx_trn[:20000], song_idx_trn[:20000], ratings_trn[:20000])"
   ]
  },
  {
   "cell_type": "code",
   "execution_count": 21,
   "metadata": {
    "collapsed": true
   },
   "outputs": [],
   "source": [
    "fake_usr_c = songmodel.getc(user_idx_trn_with_noise[-20000:], \n",
    "                            song_idx_trn_with_noise[-20000:], ratings_trn_with_noise[-20000:])"
   ]
  },
  {
   "cell_type": "code",
   "execution_count": 22,
   "metadata": {
    "collapsed": false,
    "scrolled": true
   },
   "outputs": [
    {
     "data": {
      "text/plain": [
       "(0.79417413, 1.0)"
      ]
     },
     "execution_count": 22,
     "metadata": {},
     "output_type": "execute_result"
    }
   ],
   "source": [
    "np.mean(real_usr_c), np.mean(fake_usr_c)"
   ]
  },
  {
   "cell_type": "code",
   "execution_count": 23,
   "metadata": {
    "collapsed": false
   },
   "outputs": [
    {
     "data": {
      "text/plain": [
       "array([[ 0.79992121,  0.80646396,  0.79884803, ...,  0.79377997,\n",
       "         0.81287378,  0.78427571]], dtype=float32)"
      ]
     },
     "execution_count": 23,
     "metadata": {},
     "output_type": "execute_result"
    }
   ],
   "source": [
    "real_usr_c.T"
   ]
  },
  {
   "cell_type": "code",
   "execution_count": 24,
   "metadata": {
    "collapsed": false
   },
   "outputs": [
    {
     "data": {
      "text/plain": [
       "array([[ 1.,  1.,  1., ...,  1.,  1.,  1.]], dtype=float32)"
      ]
     },
     "execution_count": 24,
     "metadata": {},
     "output_type": "execute_result"
    }
   ],
   "source": [
    "fake_usr_c.T"
   ]
  },
  {
   "cell_type": "code",
   "execution_count": null,
   "metadata": {
    "collapsed": true
   },
   "outputs": [],
   "source": []
  },
  {
   "cell_type": "code",
   "execution_count": null,
   "metadata": {
    "collapsed": true
   },
   "outputs": [],
   "source": []
  }
 ],
 "metadata": {
  "anaconda-cloud": {},
  "kernelspec": {
   "display_name": "Python [conda env:tf]",
   "language": "python",
   "name": "conda-env-tf-py"
  },
  "language_info": {
   "codemirror_mode": {
    "name": "ipython",
    "version": 3
   },
   "file_extension": ".py",
   "mimetype": "text/x-python",
   "name": "python",
   "nbconvert_exporter": "python",
   "pygments_lexer": "ipython3",
   "version": "3.5.2"
  }
 },
 "nbformat": 4,
 "nbformat_minor": 1
}
